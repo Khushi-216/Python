{
  "nbformat": 4,
  "nbformat_minor": 0,
  "metadata": {
    "colab": {
      "provenance": [],
      "authorship_tag": "ABX9TyP2WCi2tXphbCEaDzMtSkR6",
      "include_colab_link": true
    },
    "kernelspec": {
      "name": "python3",
      "display_name": "Python 3"
    },
    "language_info": {
      "name": "python"
    }
  },
  "cells": [
    {
      "cell_type": "markdown",
      "metadata": {
        "id": "view-in-github",
        "colab_type": "text"
      },
      "source": [
        "<a href=\"https://colab.research.google.com/github/Khushi-216/Python/blob/main/Practical_6B.ipynb\" target=\"_parent\"><img src=\"https://colab.research.google.com/assets/colab-badge.svg\" alt=\"Open In Colab\"/></a>"
      ]
    },
    {
      "cell_type": "code",
      "execution_count": 26,
      "metadata": {
        "colab": {
          "base_uri": "https://localhost:8080/"
        },
        "id": "PkWBwB-DUKTw",
        "outputId": "fcfaa321-81d5-4031-c693-9aa552a9a8f2"
      },
      "outputs": [
        {
          "output_type": "stream",
          "name": "stdout",
          "text": [
            "4 + 5i\n",
            "6 + 2i\n",
            "24 + 10i\n"
          ]
        }
      ],
      "source": [
        "#Passing & returning object as parameter\n",
        "class complex:\n",
        "  def __init__(self,real,img):\n",
        "    self.real=real\n",
        "    self.img=img\n",
        "  def calc(self,other): # other is a variable- not a keyword\n",
        "    real=self.real * other.real\n",
        "    img = self.img * other.img\n",
        "    c3=complex(real,img)\n",
        "    return c3\n",
        "  def display(self):\n",
        "    print(f\"{self.real} + {self.img}i\") #whenever a function s called- it takes through self\n",
        "\n",
        "c1 = complex(4,5)\n",
        "c2 = complex(6,2)\n",
        "c1.display()\n",
        "c2.display()\n",
        "c3=c1.calc(c2) #c3 = c2.calc(c1)\n",
        "c3.display()"
      ]
    },
    {
      "cell_type": "code",
      "source": [
        "class bank:\n",
        "  def __init__(self,acc_num,bal):\n",
        "    self.num = acc_num\n",
        "    self.bal = bal\n",
        "  def transfer(self,dusra,amt):\n",
        "    if (amt>0):\n",
        "      if (self.bal<amt):\n",
        "        print(\"Cannot Issue Transfer\\nAcc Balance not enough!!\\n\")\n",
        "      else:\n",
        "        self.bal-=amt\n",
        "        dusra.bal+=amt\n",
        "    else:\n",
        "      print(\"Invalid Transfer Input\")\n",
        "\n",
        "  def display(self):\n",
        "    print(f\"Acc_Num = {self.num}\\nBalance = {self.bal}\\n\")\n",
        "\n",
        "khushi = bank(1,100)\n",
        "manthan = bank(2,50)\n",
        "khushi.transfer(manthan,0)\n",
        "khushi.display()\n",
        "manthan.display()"
      ],
      "metadata": {
        "colab": {
          "base_uri": "https://localhost:8080/"
        },
        "id": "73FfJ5UqXlA3",
        "outputId": "82a681d5-645c-4b77-f1cc-979a54f994aa"
      },
      "execution_count": null,
      "outputs": [
        {
          "output_type": "stream",
          "name": "stdout",
          "text": [
            "Invalid Transfer Input\n",
            "Acc_Num = 1\n",
            "Balance = 100\n",
            "\n",
            "Acc_Num = 2\n",
            "Balance = 50\n",
            "\n"
          ]
        }
      ]
    },
    {
      "cell_type": "code",
      "source": [
        "#if u dont write self- it automatically becomes a static function/object\n",
        "'''SAME QUESTION UPAR WALA'''\n",
        "class bank:\n",
        "  def __init__(self,acc_num,bal):\n",
        "    self.num = acc_num\n",
        "    self.bal = bal\n",
        "  def withdraw(self,amt):\n",
        "    if (amt>0)&(amt<=self.bal):\n",
        "      self.bal-=amt\n",
        "      return True\n",
        "    return False\n",
        "\n",
        "  def deposit(self,amt):\n",
        "    if (amt>0):\n",
        "      self.bal+=amt\n",
        "      return True\n",
        "    return False\n",
        "\n",
        "  def transfer(from_acc,to_acc,amt):\n",
        "    if(from_acc.withdraw(amt)):\n",
        "      if(to_acc.deposit(amt)):\n",
        "        print(\"Successful transaction\\n\")\n",
        "        from_acc.display()\n",
        "        to_acc.display()\n",
        "    else:\n",
        "      print(\"Transaction Unsuccessful\\n\")\n",
        "      from_acc.display()\n",
        "      to_acc.display()\n",
        "\n",
        "  def display(self):\n",
        "    print(f\"Acc_Num = {self.num}\\nBalance = {self.bal}\\n\")\n",
        "\n",
        "khushi = bank(1,100)\n",
        "manthan = bank(2,50)\n",
        "khushi.transfer(manthan,110)"
      ],
      "metadata": {
        "colab": {
          "base_uri": "https://localhost:8080/"
        },
        "id": "WGUzT08vcLwY",
        "outputId": "3cfc3713-586b-446b-bd50-14f7d7c35ddf"
      },
      "execution_count": null,
      "outputs": [
        {
          "output_type": "stream",
          "name": "stdout",
          "text": [
            "Transaction Unsuccessful\n",
            "\n",
            "Acc_Num = 1\n",
            "Balance = 100\n",
            "\n",
            "Acc_Num = 2\n",
            "Balance = 50\n",
            "\n"
          ]
        }
      ]
    }
  ]
}