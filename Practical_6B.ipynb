{
  "nbformat": 4,
  "nbformat_minor": 0,
  "metadata": {
    "colab": {
      "provenance": [],
      "authorship_tag": "ABX9TyP2Z3qTrXLTCaBKDQr0cjeJ",
      "include_colab_link": true
    },
    "kernelspec": {
      "name": "python3",
      "display_name": "Python 3"
    },
    "language_info": {
      "name": "python"
    }
  },
  "cells": [
    {
      "cell_type": "markdown",
      "metadata": {
        "id": "view-in-github",
        "colab_type": "text"
      },
      "source": [
        "<a href=\"https://colab.research.google.com/github/Khushi-216/Python/blob/main/Practical_6B.ipynb\" target=\"_parent\"><img src=\"https://colab.research.google.com/assets/colab-badge.svg\" alt=\"Open In Colab\"/></a>"
      ]
    },
    {
      "cell_type": "code",
      "execution_count": 3,
      "metadata": {
        "colab": {
          "base_uri": "https://localhost:8080/"
        },
        "id": "PkWBwB-DUKTw",
        "outputId": "d5ed39f5-d706-424a-cf1e-3ccdf5fa9993"
      },
      "outputs": [
        {
          "output_type": "stream",
          "name": "stdout",
          "text": [
            "4 + 5i\n",
            "6 + 2i\n",
            "24 + 10i\n"
          ]
        }
      ],
      "source": [
        "#Passing & returning object as parameter\n",
        "class complex:\n",
        "  def __init__(self,real,img):\n",
        "    self.real=real\n",
        "    self.img=img\n",
        "  def calc(self,other): # other is a variable- not a keyword\n",
        "    real=self.real * other.real\n",
        "    img = self.img * other.img\n",
        "    c3=complex(real,img)\n",
        "    return c3\n",
        "  def display(self):\n",
        "    print(f\"{self.real} + {self.img}i\") #whenever a function s called- it takes through self\n",
        "\n",
        "c1 = complex(4,5)\n",
        "c2 = complex(6,2)\n",
        "c1.display()\n",
        "c2.display()\n",
        "c3=c1.calc(c2) #c3 = c2.calc(c1)\n",
        "c3.display()"
      ]
    },
    {
      "cell_type": "code",
      "source": [
        "class bank:\n",
        "  def __init__(self,acc_num,bal):\n",
        "    self.num = acc_num\n",
        "    self.bal = bal\n",
        "  def transfer(self,dusra,amt):\n",
        "    if (amt>0):\n",
        "      if (self.bal<amt):\n",
        "        print(\"Cannot Issue Transfer\\nAcc Balance not enough!!\\n\")\n",
        "      else:\n",
        "        self.bal-=amt\n",
        "        dusra.bal+=amt\n",
        "    else:\n",
        "      print(\"Invalid Transfer Input\")\n",
        "\n",
        "  def display(self):\n",
        "    print(f\"Acc_Num = {self.num}\\nBalance = {self.bal}\\n\")\n",
        "\n",
        "khushi = bank(1,100)\n",
        "manthan = bank(2,50)\n",
        "khushi.transfer(manthan,0)\n",
        "khushi.display()\n",
        "manthan.display()"
      ],
      "metadata": {
        "colab": {
          "base_uri": "https://localhost:8080/"
        },
        "id": "73FfJ5UqXlA3",
        "outputId": "44fa7e5c-488e-4883-b8c7-a91993ba8b42"
      },
      "execution_count": 2,
      "outputs": [
        {
          "output_type": "stream",
          "name": "stdout",
          "text": [
            "Invalid Transfer Input\n",
            "Acc_Num = 1\n",
            "Balance = 100\n",
            "\n",
            "Acc_Num = 2\n",
            "Balance = 50\n",
            "\n"
          ]
        }
      ]
    },
    {
      "cell_type": "code",
      "source": [
        "#if u dont write self- it automatically becomes a static function/object\n",
        "'''SAME QUESTION UPAR WALA'''\n",
        "class bank:\n",
        "  def __init__(self,acc_num,bal):\n",
        "    self.num = acc_num\n",
        "    self.bal = bal\n",
        "  def withdraw(self,amt):\n",
        "    if (amt>0)&(amt<=self.bal):\n",
        "      self.bal-=amt\n",
        "      return True\n",
        "    return False\n",
        "\n",
        "  def deposit(self,amt):\n",
        "    if (amt>0):\n",
        "      self.bal+=amt\n",
        "      return True\n",
        "    return False\n",
        "\n",
        "  def transfer(from_acc,to_acc,amt):\n",
        "    if(from_acc.withdraw(amt)):\n",
        "      if(to_acc.deposit(amt)):\n",
        "        print(\"Successful transaction\\n\")\n",
        "        from_acc.display()\n",
        "        to_acc.display()\n",
        "    else:\n",
        "      print(\"Transaction Unsuccessful\\n\")\n",
        "      from_acc.display()\n",
        "      to_acc.display()\n",
        "\n",
        "  def display(self):\n",
        "    print(f\"Acc_Num = {self.num}\\nBalance = {self.bal}\\n\")\n",
        "\n",
        "khushi = bank(1,100)\n",
        "manthan = bank(2,50)\n",
        "khushi.transfer(manthan,70)"
      ],
      "metadata": {
        "colab": {
          "base_uri": "https://localhost:8080/"
        },
        "id": "WGUzT08vcLwY",
        "outputId": "9e9ec81d-c78a-4a4e-d3dd-04c471f891f8"
      },
      "execution_count": 1,
      "outputs": [
        {
          "output_type": "stream",
          "name": "stdout",
          "text": [
            "Successful transaction\n",
            "\n",
            "Acc_Num = 1\n",
            "Balance = 30\n",
            "\n",
            "Acc_Num = 2\n",
            "Balance = 120\n",
            "\n"
          ]
        }
      ]
    }
  ]
}