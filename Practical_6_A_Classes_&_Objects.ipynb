{
  "nbformat": 4,
  "nbformat_minor": 0,
  "metadata": {
    "colab": {
      "provenance": [],
      "authorship_tag": "ABX9TyPQQv218CGU7lwfi/lK3L67",
      "include_colab_link": true
    },
    "kernelspec": {
      "name": "python3",
      "display_name": "Python 3"
    },
    "language_info": {
      "name": "python"
    }
  },
  "cells": [
    {
      "cell_type": "markdown",
      "metadata": {
        "id": "view-in-github",
        "colab_type": "text"
      },
      "source": [
        "<a href=\"https://colab.research.google.com/github/Khushi-216/Python/blob/main/Practical_6_A_Classes_%26_Objects.ipynb\" target=\"_parent\"><img src=\"https://colab.research.google.com/assets/colab-badge.svg\" alt=\"Open In Colab\"/></a>"
      ]
    },
    {
      "cell_type": "code",
      "execution_count": null,
      "metadata": {
        "colab": {
          "base_uri": "https://localhost:8080/"
        },
        "id": "hwRMZoAw9wH_",
        "outputId": "0a744c12-2471-4d83-bdd8-39eee5babd33"
      },
      "outputs": [
        {
          "output_type": "stream",
          "name": "stdout",
          "text": [
            "The prime nubers are: \n",
            "1\n",
            "2\n",
            "3\n",
            "5\n",
            "7\n"
          ]
        }
      ],
      "source": [
        "# Q1 -> PRIME NUMBERS BETWEEN N1 & N2\n",
        "class Prime_Numbers:\n",
        "  def __init__ (self,n1,n2):\n",
        "    self.n1 = n1\n",
        "    self.n2 = n2\n",
        "  def calc(self):\n",
        "    print(\"The prime nubers are: \")\n",
        "    for i in range(self.n1,self.n2):\n",
        "      ans=1\n",
        "      for j in range(2,i):\n",
        "        if (i%j==0):\n",
        "          ans=0\n",
        "          break\n",
        "      if (ans==1):\n",
        "        print(i)\n",
        "\n",
        "  Trial=Prime_Numbers (1,10)\n",
        "  Trial.calc()"
      ]
    },
    {
      "cell_type": "code",
      "source": [
        "#Q2 -> Design a Bank Account\n",
        "class Bank_Account:\n",
        "  def __init__(self,account_id,account_holder,balance):\n",
        "    self.id = account_id\n",
        "    self.holder = account_holder\n",
        "    self.balance = balance\n",
        "  def deposit(self,amt):\n",
        "    self.balance+=amt\n",
        "  def withdraw(self,amt):\n",
        "    if(amt>self.balance):\n",
        "      print(\"Exceeding the account balance of $\",self.balance,\" by $\",amt-self.balance)\n",
        "    else:\n",
        "      self.balance-=amt\n",
        "  def check_balance(self):\n",
        "    print(\"ID-\",self.id,\"by Holder-\",self.holder,\"has a balance of $\",self.balance)\n",
        "\n",
        "Khushi = Bank_Account(10,\"Shikhu\", 100)\n",
        "Khushi.deposit(999900)\n",
        "Khushi.withdraw(1)\n",
        "Khushi.check_balance()\n",
        "\n"
      ],
      "metadata": {
        "id": "LDzjX9LQBx_s",
        "colab": {
          "base_uri": "https://localhost:8080/"
        },
        "outputId": "d1420a71-a663-4903-c0c3-21cacf6f7240"
      },
      "execution_count": null,
      "outputs": [
        {
          "output_type": "stream",
          "name": "stdout",
          "text": [
            "ID- 10 by Holder- Shikhu has a balance of $ 999999\n"
          ]
        }
      ]
    },
    {
      "cell_type": "code",
      "source": [
        "\n"
      ],
      "metadata": {
        "id": "huwHsK2zD_HT"
      },
      "execution_count": null,
      "outputs": []
    }
  ]
}