{
  "nbformat": 4,
  "nbformat_minor": 0,
  "metadata": {
    "colab": {
      "provenance": [],
      "authorship_tag": "ABX9TyO+y7nMKq+1N8A06yxu9bjB",
      "include_colab_link": true
    },
    "kernelspec": {
      "name": "python3",
      "display_name": "Python 3"
    },
    "language_info": {
      "name": "python"
    }
  },
  "cells": [
    {
      "cell_type": "markdown",
      "metadata": {
        "id": "view-in-github",
        "colab_type": "text"
      },
      "source": [
        "<a href=\"https://colab.research.google.com/github/Khushi-216/Python/blob/main/Prac3_Employee.ipynb\" target=\"_parent\"><img src=\"https://colab.research.google.com/assets/colab-badge.svg\" alt=\"Open In Colab\"/></a>"
      ]
    },
    {
      "cell_type": "code",
      "execution_count": 6,
      "metadata": {
        "id": "IT1NxF5uwS6B"
      },
      "outputs": [],
      "source": [
        "import numpy as np"
      ]
    },
    {
      "cell_type": "code",
      "source": [
        "emp=np.genfromtxt('employee.csv',delimiter=',',dtype=None,names=True,encoding=None)\n"
      ],
      "metadata": {
        "id": "ulnuLZqZwnGU"
      },
      "execution_count": 7,
      "outputs": []
    },
    {
      "cell_type": "code",
      "source": [
        "emp[:5]"
      ],
      "metadata": {
        "colab": {
          "base_uri": "https://localhost:8080/"
        },
        "id": "m7553Q4MxSAl",
        "outputId": "b473acfd-6590-4574-a42a-db6c66ab1a55"
      },
      "execution_count": null,
      "outputs": [
        {
          "output_type": "execute_result",
          "data": {
            "text/plain": [
              "array([(101, 'John', 'Doe', 75000, '15-05-1990', 'New York', 101, 'Engineering'),\n",
              "       (102, 'Jane', 'Smith', 65000, '23-08-1988', 'San Francisco', 102, 'Marketing'),\n",
              "       (103, 'Michael', 'Johnson', 80000, '10-02-1985', 'Chicago', 101, 'Engineering'),\n",
              "       (104, 'Emily', 'Williams', 70000, '30-11-1992', 'Los Angeles', 103, 'Human Resources'),\n",
              "       (105, 'Robert', 'Miller', 90000, '18-07-1980', 'Seattle', 102, 'Marketing')],\n",
              "      dtype=[('empid', '<i8'), ('empfirstname', '<U11'), ('emplastname', '<U8'), ('sal', '<i8'), ('dateofbirth', '<U10'), ('city', '<U13'), ('deptid', '<i8'), ('deptname', '<U15')])"
            ]
          },
          "metadata": {},
          "execution_count": 6
        }
      ]
    },
    {
      "cell_type": "code",
      "source": [
        "emp[emp['sal']>70000]"
      ],
      "metadata": {
        "colab": {
          "base_uri": "https://localhost:8080/"
        },
        "id": "eJ9LKlH0xshE",
        "outputId": "5f62564a-c8c8-426c-c253-b56dc28a5bce"
      },
      "execution_count": 8,
      "outputs": [
        {
          "output_type": "execute_result",
          "data": {
            "text/plain": [
              "array([(101, 'John', 'Doe', 75000, '15-05-1990', 'New York', 101, 'Engineering'),\n",
              "       (103, 'Michael', 'Johnson', 80000, '10-02-1985', 'Chicago', 101, 'Engineering'),\n",
              "       (105, 'Robert', 'Miller', 90000, '18-07-1980', 'Seattle', 102, 'Marketing'),\n",
              "       (106, 'Alice', 'Jackson', 72000, '05-04-1995', 'Miami', 104, 'Finance'),\n",
              "       (107, 'David', 'Anderson', 85000, '12-09-1987', 'Dallas', 101, 'Engineering'),\n",
              "       (108, 'Olivia', 'Thomas', 78000, '08-12-1991', 'Houston', 103, 'Human Resources'),\n",
              "       (109, 'William', 'Brown', 95000, '25-06-1982', 'Phoenix', 102, 'Marketing'),\n",
              "       (111, 'James', 'Clark', 89000, '22-03-1984', 'Denver', 101, 'Engineering'),\n",
              "       (112, 'Emma', 'Hall', 82000, '17-01-1994', 'Portland', 103, 'Human Resources'),\n",
              "       (113, 'Christopher', 'Young', 76000, '03-07-1989', 'San Diego', 102, 'Marketing'),\n",
              "       (114, 'Isabella', 'Hill', 91000, '20-04-1983', 'Orlando', 101, 'Engineering'),\n",
              "       (116, 'Abigail', 'Turner', 80000, '28-02-1986', 'Austin', 103, 'Human Resources'),\n",
              "       (117, 'Liam', 'Carter', 74000, '05-09-1997', 'Minneapolis', 102, 'Marketing'),\n",
              "       (118, 'Ella', 'Ross', 92000, '10-05-1981', 'Charlotte', 101, 'Engineering'),\n",
              "       (120, 'Sofia', 'Cooper', 88000, '01-12-1988', 'Sacramento', 103, 'Human Resources')],\n",
              "      dtype=[('empid', '<i8'), ('empfirstname', '<U11'), ('emplastname', '<U8'), ('sal', '<i8'), ('dateofbirth', '<U10'), ('city', '<U13'), ('deptid', '<i8'), ('deptname', '<U15')])"
            ]
          },
          "metadata": {},
          "execution_count": 8
        }
      ]
    },
    {
      "cell_type": "code",
      "source": [
        "sorted=np.sort(emp,order='sal')[::-1]\n",
        "sorted[:3]"
      ],
      "metadata": {
        "colab": {
          "base_uri": "https://localhost:8080/"
        },
        "id": "1r9nfp0AyCaq",
        "outputId": "be49f20f-2aaa-4a49-91fc-4b2ae2a38d5d"
      },
      "execution_count": 9,
      "outputs": [
        {
          "output_type": "execute_result",
          "data": {
            "text/plain": [
              "array([(109, 'William', 'Brown', 95000, '25-06-1982', 'Phoenix', 102, 'Marketing'),\n",
              "       (118, 'Ella', 'Ross', 92000, '10-05-1981', 'Charlotte', 101, 'Engineering'),\n",
              "       (114, 'Isabella', 'Hill', 91000, '20-04-1983', 'Orlando', 101, 'Engineering')],\n",
              "      dtype=[('empid', '<i8'), ('empfirstname', '<U11'), ('emplastname', '<U8'), ('sal', '<i8'), ('dateofbirth', '<U10'), ('city', '<U13'), ('deptid', '<i8'), ('deptname', '<U15')])"
            ]
          },
          "metadata": {},
          "execution_count": 9
        }
      ]
    },
    {
      "cell_type": "code",
      "source": [
        "from datetime import datetime\n",
        "after=np.array([datetime.strptime(d,\"%d-%m-%Y\").year>1990 for d in emp['dateofbirth']])\n",
        "emp[after]"
      ],
      "metadata": {
        "colab": {
          "base_uri": "https://localhost:8080/"
        },
        "id": "dKScp-_sy6NG",
        "outputId": "4e2298ca-c114-4825-98c8-cb95456d4306"
      },
      "execution_count": 10,
      "outputs": [
        {
          "output_type": "execute_result",
          "data": {
            "text/plain": [
              "array([(104, 'Emily', 'Williams', 70000, '30-11-1992', 'Los Angeles', 103, 'Human Resources'),\n",
              "       (106, 'Alice', 'Jackson', 72000, '05-04-1995', 'Miami', 104, 'Finance'),\n",
              "       (108, 'Olivia', 'Thomas', 78000, '08-12-1991', 'Houston', 103, 'Human Resources'),\n",
              "       (110, 'Sophia', 'White', 68000, '14-08-1993', 'Atlanta', 104, 'Finance'),\n",
              "       (112, 'Emma', 'Hall', 82000, '17-01-1994', 'Portland', 103, 'Human Resources'),\n",
              "       (115, 'Aiden', 'Ward', 69000, '15-11-1996', 'Tampa', 104, 'Finance'),\n",
              "       (117, 'Liam', 'Carter', 74000, '05-09-1997', 'Minneapolis', 102, 'Marketing'),\n",
              "       (119, 'Jackson', 'Martin', 67000, '18-03-1998', 'Raleigh', 104, 'Finance')],\n",
              "      dtype=[('empid', '<i8'), ('empfirstname', '<U11'), ('emplastname', '<U8'), ('sal', '<i8'), ('dateofbirth', '<U10'), ('city', '<U13'), ('deptid', '<i8'), ('deptname', '<U15')])"
            ]
          },
          "metadata": {},
          "execution_count": 10
        }
      ]
    },
    {
      "cell_type": "code",
      "source": [
        "dept=np.unique(emp['deptname'])\n",
        "for i in dept:\n",
        "  k=emp[emp['deptname']==i]\n",
        "  tot_sal=np.sum(k['sal'])\n",
        "  print(f\"{i}     {tot_sal}\")\n"
      ],
      "metadata": {
        "colab": {
          "base_uri": "https://localhost:8080/"
        },
        "id": "7F-W3HHg6PxC",
        "outputId": "ff7c9944-094a-460a-edfb-0b4542e52d82"
      },
      "execution_count": 11,
      "outputs": [
        {
          "output_type": "stream",
          "name": "stdout",
          "text": [
            "Engineering     512000\n",
            "Finance     276000\n",
            "Human Resources     398000\n",
            "Marketing     400000\n"
          ]
        }
      ]
    },
    {
      "cell_type": "code",
      "source": [
        "current=datetime.now().year\n",
        "age=np.array([current-datetime.strptime(d,\"%d-%m-%Y\").year for d in emp['dateofbirth']])\n",
        "i=0\n",
        "name_age={}\n",
        "for j in emp['empfirstname']:\n",
        "  name_age[j]=age[i]\n",
        "  i+=1\n",
        "name_age\n"
      ],
      "metadata": {
        "colab": {
          "base_uri": "https://localhost:8080/"
        },
        "id": "bitX6ZBk0GXM",
        "outputId": "f390fc7b-7f1a-4e51-b412-4833d97f403b"
      },
      "execution_count": 12,
      "outputs": [
        {
          "output_type": "execute_result",
          "data": {
            "text/plain": [
              "{'John': 35,\n",
              " 'Jane': 37,\n",
              " 'Michael': 40,\n",
              " 'Emily': 33,\n",
              " 'Robert': 45,\n",
              " 'Alice': 30,\n",
              " 'David': 38,\n",
              " 'Olivia': 34,\n",
              " 'William': 43,\n",
              " 'Sophia': 32,\n",
              " 'James': 41,\n",
              " 'Emma': 31,\n",
              " 'Christopher': 36,\n",
              " 'Isabella': 42,\n",
              " 'Aiden': 29,\n",
              " 'Abigail': 39,\n",
              " 'Liam': 28,\n",
              " 'Ella': 44,\n",
              " 'Jackson': 27,\n",
              " 'Sofia': 37}"
            ]
          },
          "metadata": {},
          "execution_count": 12
        }
      ]
    },
    {
      "cell_type": "code",
      "source": [
        "avg_sal=np.mean(emp['sal'])\n",
        "print(avg_sal)\n",
        "city=np.unique(emp['city'])\n",
        "print(city)"
      ],
      "metadata": {
        "colab": {
          "base_uri": "https://localhost:8080/"
        },
        "id": "imJ-Si7K8xjP",
        "outputId": "cb51d2d1-7bf4-4d0a-8b64-fe49000646e9"
      },
      "execution_count": 13,
      "outputs": [
        {
          "output_type": "stream",
          "name": "stdout",
          "text": [
            "79300.0\n",
            "['Atlanta' 'Austin' 'Charlotte' 'Chicago' 'Dallas' 'Denver' 'Houston'\n",
            " 'Los Angeles' 'Miami' 'Minneapolis' 'New York' 'Orlando' 'Phoenix'\n",
            " 'Portland' 'Raleigh' 'Sacramento' 'San Diego' 'San Francisco' 'Seattle'\n",
            " 'Tampa']\n"
          ]
        }
      ]
    },
    {
      "cell_type": "code",
      "source": [
        "increased_sal_Marketing=emp[emp['deptname']=='Marketing']\n",
        "increased_sal_Marketing['sal']=increased_sal_Marketing['sal']*1.1\n",
        "increased_sal_Marketing[['empfirstname','sal']]"
      ],
      "metadata": {
        "colab": {
          "base_uri": "https://localhost:8080/"
        },
        "id": "_n_ETb8YczgI",
        "outputId": "2d909761-3ab1-48a1-e75c-1d00b40fac09"
      },
      "execution_count": 17,
      "outputs": [
        {
          "output_type": "execute_result",
          "data": {
            "text/plain": [
              "array([('Jane',  71500), ('Robert',  99000), ('William', 104500),\n",
              "       ('Christopher',  83600), ('Liam',  81400)],\n",
              "      dtype={'names': ['empfirstname', 'sal'], 'formats': ['<U11', '<i8'], 'offsets': [8, 84], 'itemsize': 252})"
            ]
          },
          "metadata": {},
          "execution_count": 17
        }
      ]
    },
    {
      "cell_type": "code",
      "source": [
        "top_indice=np.argsort(emp[\"sal\"])[::-1][:3]\n",
        "top_emp=emp[top_indice]\n",
        "top_emp[['empfirstname','sal']]"
      ],
      "metadata": {
        "colab": {
          "base_uri": "https://localhost:8080/"
        },
        "id": "gri5NW6k9UhV",
        "outputId": "4e4d4c03-ba5d-475a-cb7f-075aa8947f6d"
      },
      "execution_count": 18,
      "outputs": [
        {
          "output_type": "execute_result",
          "data": {
            "text/plain": [
              "array([('William', 95000), ('Ella', 92000), ('Isabella', 91000)],\n",
              "      dtype={'names': ['empfirstname', 'sal'], 'formats': ['<U11', '<i8'], 'offsets': [8, 84], 'itemsize': 252})"
            ]
          },
          "metadata": {},
          "execution_count": 18
        }
      ]
    },
    {
      "cell_type": "markdown",
      "source": [
        "UPDATE SALARY TO 80,000 FOR EMPLOYEES BEFORE 1990"
      ],
      "metadata": {
        "id": "GmMxvLhCfA6v"
      }
    },
    {
      "cell_type": "markdown",
      "source": [],
      "metadata": {
        "id": "GnL6FC6vAQ7J"
      }
    },
    {
      "cell_type": "code",
      "source": [
        "depts= np.unique(emp['deptname'])\n",
        "for i in depts:\n",
        "  k=emp[emp['deptname']==i]\n",
        "  mean=np.mean(k['sal'])\n",
        "  median=np.median(k['sal'])\n",
        "  print(f\" Mean & Median of {i} are {mean} & {median}\")"
      ],
      "metadata": {
        "id": "BDoH-PVu_mvt",
        "colab": {
          "base_uri": "https://localhost:8080/"
        },
        "outputId": "afbe24cd-6ca3-4d40-b258-96f315641e3f"
      },
      "execution_count": 32,
      "outputs": [
        {
          "output_type": "stream",
          "name": "stdout",
          "text": [
            " Mean & Median of Engineering are 85333.33333333333 & 87000.0\n",
            " Mean & Median of Finance are 69000.0 & 68500.0\n",
            " Mean & Median of Human Resources are 79600.0 & 80000.0\n",
            " Mean & Median of Marketing are 80000.0 & 76000.0\n"
          ]
        }
      ]
    },
    {
      "cell_type": "code",
      "source": [
        "unique_city=np.unique(emp['city'])\n",
        "for i in unique_city:\n",
        "  emp_count=len(emp[emp['city']==i])\n",
        "  print(f\"Number of employees in {i} is {emp_count}\")"
      ],
      "metadata": {
        "colab": {
          "base_uri": "https://localhost:8080/"
        },
        "id": "ofsoCfNigh1S",
        "outputId": "f96ba0a9-3163-4a6f-98c5-c47688396826"
      },
      "execution_count": 34,
      "outputs": [
        {
          "output_type": "stream",
          "name": "stdout",
          "text": [
            "Number of employees in Atlanta is 1\n",
            "Number of employees in Austin is 1\n",
            "Number of employees in Charlotte is 1\n",
            "Number of employees in Chicago is 1\n",
            "Number of employees in Dallas is 1\n",
            "Number of employees in Denver is 1\n",
            "Number of employees in Houston is 1\n",
            "Number of employees in Los Angeles is 1\n",
            "Number of employees in Miami is 1\n",
            "Number of employees in Minneapolis is 1\n",
            "Number of employees in New York is 1\n",
            "Number of employees in Orlando is 1\n",
            "Number of employees in Phoenix is 1\n",
            "Number of employees in Portland is 1\n",
            "Number of employees in Raleigh is 1\n",
            "Number of employees in Sacramento is 1\n",
            "Number of employees in San Diego is 1\n",
            "Number of employees in San Francisco is 1\n",
            "Number of employees in Seattle is 1\n",
            "Number of employees in Tampa is 1\n"
          ]
        }
      ]
    },
    {
      "cell_type": "code",
      "source": [
        "emp[['empfirstname','emplastname','sal']]"
      ],
      "metadata": {
        "colab": {
          "base_uri": "https://localhost:8080/"
        },
        "id": "GIUF6Q4-_N_W",
        "outputId": "b70a4d68-5db6-4442-a6f9-95ed85b71f81"
      },
      "execution_count": 19,
      "outputs": [
        {
          "output_type": "execute_result",
          "data": {
            "text/plain": [
              "array([('John', 'Doe', 75000), ('Jane', 'Smith', 65000),\n",
              "       ('Michael', 'Johnson', 80000), ('Emily', 'Williams', 70000),\n",
              "       ('Robert', 'Miller', 90000), ('Alice', 'Jackson', 72000),\n",
              "       ('David', 'Anderson', 85000), ('Olivia', 'Thomas', 78000),\n",
              "       ('William', 'Brown', 95000), ('Sophia', 'White', 68000),\n",
              "       ('James', 'Clark', 89000), ('Emma', 'Hall', 82000),\n",
              "       ('Christopher', 'Young', 76000), ('Isabella', 'Hill', 91000),\n",
              "       ('Aiden', 'Ward', 69000), ('Abigail', 'Turner', 80000),\n",
              "       ('Liam', 'Carter', 74000), ('Ella', 'Ross', 92000),\n",
              "       ('Jackson', 'Martin', 67000), ('Sofia', 'Cooper', 88000)],\n",
              "      dtype={'names': ['empfirstname', 'emplastname', 'sal'], 'formats': ['<U11', '<U8', '<i8'], 'offsets': [8, 52, 84], 'itemsize': 252})"
            ]
          },
          "metadata": {},
          "execution_count": 19
        }
      ]
    },
    {
      "cell_type": "code",
      "source": [
        "\n",
        "sal_count=emp[(emp['sal']>60000) & (emp['sal']<80000)]\n",
        "print(len(sal_count))\n",
        "#eldest individual in the office\n",
        "current=datetime.now().year\n",
        "age=np.array([current-datetime.strptime(d,\"%d-%m-%Y\").year for d in emp['dateofbirth']])\n",
        "i=0\n",
        "name_age={}\n",
        "for j in emp['empfirstname']:\n",
        "  name_age[j]=age[i]\n",
        "  i+=1\n",
        "max_age=max(name_age,key=name_age.get)\n",
        "print(max_age,\"is the eldest employee of age:\",np.max(age))\n"
      ],
      "metadata": {
        "colab": {
          "base_uri": "https://localhost:8080/"
        },
        "id": "Suops6yDiEqh",
        "outputId": "53de60c5-fa39-4f1f-9ea8-4fdfd5ead983"
      },
      "execution_count": 54,
      "outputs": [
        {
          "output_type": "stream",
          "name": "stdout",
          "text": [
            "10\n",
            "Robert is the eldest employee of age: 45\n"
          ]
        }
      ]
    }
  ]
}