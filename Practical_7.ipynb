{
  "nbformat": 4,
  "nbformat_minor": 0,
  "metadata": {
    "colab": {
      "provenance": [],
      "authorship_tag": "ABX9TyNxbNW4AHhe9Axi2CmwgBMa",
      "include_colab_link": true
    },
    "kernelspec": {
      "name": "python3",
      "display_name": "Python 3"
    },
    "language_info": {
      "name": "python"
    }
  },
  "cells": [
    {
      "cell_type": "markdown",
      "metadata": {
        "id": "view-in-github",
        "colab_type": "text"
      },
      "source": [
        "<a href=\"https://colab.research.google.com/github/Khushi-216/Python/blob/main/Practical_7.ipynb\" target=\"_parent\"><img src=\"https://colab.research.google.com/assets/colab-badge.svg\" alt=\"Open In Colab\"/></a>"
      ]
    },
    {
      "cell_type": "code",
      "execution_count": null,
      "metadata": {
        "colab": {
          "base_uri": "https://localhost:8080/"
        },
        "id": "zSk46-G-km0r",
        "outputId": "642870c5-0dd8-416e-e105-6248d955db17"
      },
      "outputs": [
        {
          "output_type": "stream",
          "name": "stdout",
          "text": [
            "EmployeeID 101\n",
            "Salary 50000\n",
            "Dept IT\n",
            "EmployeeID 102\n",
            "Salary 60000\n",
            "Programming C++\n"
          ]
        }
      ],
      "source": [
        "# INHERITANCE\n",
        "# SUPER IS USED TO CALL THE PARENT CLASS VIA THE CHILD\n",
        "class employee:\n",
        "  def __init__(self,empid,sal):\n",
        "    self.empid=empid\n",
        "    self.sal=sal\n",
        "\n",
        "class Manager(employee):\n",
        "  def __init__(self,empid,sal,dept):\n",
        "    super().__init__(empid,sal)\n",
        "    self.dept=dept\n",
        "  def display(self):\n",
        "    print(\"EmployeeID\",self.empid)\n",
        "    print(\"Salary\",self.sal)\n",
        "    print(\"Dept\",self.dept)\n",
        "\n",
        "class devloper(employee):\n",
        "  def __init__(self,empid,sal,lang):\n",
        "    super().__init__(empid,sal)\n",
        "    self.lang=lang\n",
        "  def display(self):\n",
        "    print(\"EmployeeID\",self.empid)\n",
        "    print(\"Salary\",self.sal)\n",
        "    print(\"Programming\",self.lang)\n",
        "\n",
        "\n",
        "\n",
        "M1=Manager(101,50000,\"IT\")\n",
        "D1=devloper(102,60000,\"C++\")\n",
        "M1.display()\n",
        "D1.display()"
      ]
    },
    {
      "cell_type": "code",
      "source": [
        "#ADD TWO NUMBERS USING SINGLE INHERITENCE\n",
        "\n",
        "class num1:\n",
        "  def __init__(self,NUM1):\n",
        "    self.NUM1=NUM1\n",
        "class addition (num1):\n",
        "  def __init__(self,NUM1,NUM2):\n",
        "    super().__init__(NUM1)\n",
        "    self.NUM2=NUM2\n",
        "  def add(self):\n",
        "    self.ans=self.NUM1+self.NUM2\n",
        "  def display(self):\n",
        "    print(self.ans)\n",
        "Khushi=addition(10,20)\n",
        "Khushi.add()\n",
        "Khushi.display()"
      ],
      "metadata": {
        "colab": {
          "base_uri": "https://localhost:8080/"
        },
        "id": "ckL9HLdXojC3",
        "outputId": "9bf0faac-1b4f-418b-bf9b-9a71e9067dd4"
      },
      "execution_count": null,
      "outputs": [
        {
          "output_type": "stream",
          "name": "stdout",
          "text": [
            "30\n"
          ]
        }
      ]
    },
    {
      "cell_type": "code",
      "source": [
        "## number -> sqr & cube\n",
        "class Number:\n",
        "  def __init__(self):\n",
        "    num = int(input(\"Enter Number: \"))\n",
        "    self.num=num\n",
        "\n",
        "class Square(Number):\n",
        "  def display(self):\n",
        "    print(f\"Square of {self.num} is {self.num**2}\")\n",
        "\n",
        "class Cube(Number):\n",
        "  def display(self):\n",
        "    print(f\"Cube of {self.num} is {self.num**3}\")\n",
        "\n",
        "Khushi = Square()\n",
        "Khushi.display()\n",
        "Vernon = Cube()\n",
        "Vernon.display()"
      ],
      "metadata": {
        "colab": {
          "base_uri": "https://localhost:8080/"
        },
        "id": "1kDvdbsfraXA",
        "outputId": "50e33dc6-7524-4129-c628-1629c93d3ae9"
      },
      "execution_count": null,
      "outputs": [
        {
          "output_type": "stream",
          "name": "stdout",
          "text": [
            "Enter Number: 20\n",
            "Square of 20 is 400\n",
            "Enter Number: 20\n",
            "Cube of 20 is 8000\n"
          ]
        }
      ]
    },
    {
      "cell_type": "code",
      "source": [],
      "metadata": {
        "id": "VJb7vdwHsA4g"
      },
      "execution_count": null,
      "outputs": []
    }
  ]
}