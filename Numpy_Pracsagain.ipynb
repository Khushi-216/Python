{
  "nbformat": 4,
  "nbformat_minor": 0,
  "metadata": {
    "colab": {
      "provenance": [],
      "authorship_tag": "ABX9TyN6yujpwZVdcPymkr1wdX7/",
      "include_colab_link": true
    },
    "kernelspec": {
      "name": "python3",
      "display_name": "Python 3"
    },
    "language_info": {
      "name": "python"
    }
  },
  "cells": [
    {
      "cell_type": "markdown",
      "metadata": {
        "id": "view-in-github",
        "colab_type": "text"
      },
      "source": [
        "<a href=\"https://colab.research.google.com/github/Khushi-216/Python/blob/main/Numpy_Pracsagain.ipynb\" target=\"_parent\"><img src=\"https://colab.research.google.com/assets/colab-badge.svg\" alt=\"Open In Colab\"/></a>"
      ]
    },
    {
      "cell_type": "code",
      "execution_count": 6,
      "metadata": {
        "id": "lLhixPuwEQDO"
      },
      "outputs": [],
      "source": [
        "import numpy as np\n"
      ]
    },
    {
      "cell_type": "code",
      "source": [
        "#load oder.csv into numpy array\n",
        "orders=np.genfromtxt('order.csv',delimiter=',',dtype=None,names=True,encoding=None)\n"
      ],
      "metadata": {
        "id": "CkQDW8oSNZnE"
      },
      "execution_count": 7,
      "outputs": []
    },
    {
      "cell_type": "code",
      "source": [
        "#display the column Producut, Quantity\n",
        "orders[['Product','Quantity']]"
      ],
      "metadata": {
        "colab": {
          "base_uri": "https://localhost:8080/"
        },
        "id": "OnlnOjbgOEFc",
        "outputId": "0501a602-68e6-4a70-b176-fc61af066da8"
      },
      "execution_count": 8,
      "outputs": [
        {
          "output_type": "execute_result",
          "data": {
            "text/plain": [
              "array([('Widget A', 50), ('Widget B', 30), ('Widget A', 20),\n",
              "       ('Widget C', 15), ('Widget B', 40), ('Widget A', 25),\n",
              "       ('Widget C', 35), ('Widget B', 10), ('Widget A', 15),\n",
              "       ('Widget C', 45), ('Widget C', 40)],\n",
              "      dtype={'names': ['Product', 'Quantity'], 'formats': ['<U8', '<i8'], 'offsets': [8, 40], 'itemsize': 96})"
            ]
          },
          "metadata": {},
          "execution_count": 8
        }
      ]
    },
    {
      "cell_type": "code",
      "source": [
        "#display total quantity of orders\n",
        "np.sum(orders['Quantity'])\n",
        "#display avg num of qty\n",
        "np.mean(orders['Quantity'])\n",
        "#display the total num of orders\n",
        "#display total quantity of orders\n",
        "np.sum(orders['Quantity'])\n",
        "#display avg num of qty\n",
        "np.mean(orders['Quantity'])\n",
        "#display the total num of orders\n",
        "np.count_nonzero(orders['OrderID'])\n",
        "\n",
        "print(\"\\n\",np.sum(orders['Quantity']),\"\\n\",np.mean(orders['Quantity']),\"\\n\",np.count_nonzero(orders['OrderID']))"
      ],
      "metadata": {
        "colab": {
          "base_uri": "https://localhost:8080/"
        },
        "id": "_M2dONDAOVLr",
        "outputId": "0071975f-f3e8-4dec-a04e-559d8a70969f"
      },
      "execution_count": 21,
      "outputs": [
        {
          "output_type": "stream",
          "name": "stdout",
          "text": [
            "\n",
            " 325 \n",
            " 29.545454545454547 \n",
            " 11\n"
          ]
        }
      ]
    },
    {
      "cell_type": "code",
      "source": [
        "#diff types of products\n",
        "np.unique(orders['Product'])\n",
        "#orders having qty >30\n",
        "orders[orders[\"Quantity\"]>30] [['Product','Quantity']]"
      ],
      "metadata": {
        "colab": {
          "base_uri": "https://localhost:8080/"
        },
        "id": "NtB9gcTUPIFd",
        "outputId": "76fcabfe-c68d-46a5-ed77-cb65f2f09c7c"
      },
      "execution_count": 12,
      "outputs": [
        {
          "output_type": "execute_result",
          "data": {
            "text/plain": [
              "array([('Widget A', 50), ('Widget B', 40), ('Widget C', 35),\n",
              "       ('Widget C', 45), ('Widget C', 40)],\n",
              "      dtype={'names': ['Product', 'Quantity'], 'formats': ['<U8', '<i8'], 'offsets': [8, 40], 'itemsize': 96})"
            ]
          },
          "metadata": {},
          "execution_count": 12
        }
      ]
    },
    {
      "cell_type": "code",
      "source": [
        "#details of Product Widget A\n",
        "orders[orders['Product']==\"Widget A\"][['Product','Quantity','Price']]"
      ],
      "metadata": {
        "colab": {
          "base_uri": "https://localhost:8080/"
        },
        "id": "X2FQ3jkmQWt6",
        "outputId": "bdf455f3-95bb-4f96-e40b-0f9b3f8af997"
      },
      "execution_count": 13,
      "outputs": [
        {
          "output_type": "execute_result",
          "data": {
            "text/plain": [
              "array([('Widget A', 50, 10.5), ('Widget A', 20, 10.5),\n",
              "       ('Widget A', 25, 10.5), ('Widget A', 15, 10.5)],\n",
              "      dtype={'names': ['Product', 'Quantity', 'Price'], 'formats': ['<U8', '<i8', '<f8'], 'offsets': [8, 40, 48], 'itemsize': 96})"
            ]
          },
          "metadata": {},
          "execution_count": 13
        }
      ]
    },
    {
      "cell_type": "code",
      "source": [
        "#total qty of each prod sold\n",
        "prod = np.unique(orders['Product'])\n",
        "total={}\n",
        "for products in prod:\n",
        "    total[products]=np.sum(orders[orders['Product']==products]['Quantity'])\n",
        "print(total)\n",
        "max(total,key=total.get)\n",
        "#Sirs method: same but instezad of dict- made use of 2 vars and printed in the loop itself"
      ],
      "metadata": {
        "colab": {
          "base_uri": "https://localhost:8080/",
          "height": 53
        },
        "id": "Ir1B26qFRsaD",
        "outputId": "b8343e8c-c6aa-4a0f-9e76-12602fa45dcb"
      },
      "execution_count": 14,
      "outputs": [
        {
          "output_type": "stream",
          "name": "stdout",
          "text": [
            "{'Widget A': 110, 'Widget B': 80, 'Widget C': 135}\n"
          ]
        },
        {
          "output_type": "execute_result",
          "data": {
            "text/plain": [
              "'Widget C'"
            ],
            "application/vnd.google.colaboratory.intrinsic+json": {
              "type": "string"
            }
          },
          "metadata": {},
          "execution_count": 14
        }
      ]
    }
  ]
}