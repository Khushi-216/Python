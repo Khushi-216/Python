{
  "nbformat": 4,
  "nbformat_minor": 0,
  "metadata": {
    "colab": {
      "provenance": [],
      "authorship_tag": "ABX9TyOaUFQsxJ5j+38Jt8MsPQ/q",
      "include_colab_link": true
    },
    "kernelspec": {
      "name": "python3",
      "display_name": "Python 3"
    },
    "language_info": {
      "name": "python"
    }
  },
  "cells": [
    {
      "cell_type": "markdown",
      "metadata": {
        "id": "view-in-github",
        "colab_type": "text"
      },
      "source": [
        "<a href=\"https://colab.research.google.com/github/Khushi-216/Python/blob/main/Numpy_Pracs.ipynb\" target=\"_parent\"><img src=\"https://colab.research.google.com/assets/colab-badge.svg\" alt=\"Open In Colab\"/></a>"
      ]
    },
    {
      "cell_type": "code",
      "execution_count": null,
      "metadata": {
        "id": "lLhixPuwEQDO"
      },
      "outputs": [],
      "source": [
        "import numpy as np\n"
      ]
    },
    {
      "cell_type": "code",
      "source": [
        "#load oder.csv into numpy array\n",
        "orders=np.genfromtxt('order.csv',delimiter=',',dtype=None,names=True,encoding=None)\n"
      ],
      "metadata": {
        "id": "CkQDW8oSNZnE"
      },
      "execution_count": null,
      "outputs": []
    },
    {
      "cell_type": "code",
      "source": [
        "#display the column Producut, Quantity\n",
        "orders[['Product','Quantity']]"
      ],
      "metadata": {
        "colab": {
          "base_uri": "https://localhost:8080/"
        },
        "id": "OnlnOjbgOEFc",
        "outputId": "f47857ad-5561-41e4-e42b-4da94bd9d196"
      },
      "execution_count": null,
      "outputs": [
        {
          "output_type": "execute_result",
          "data": {
            "text/plain": [
              "array([('Widget A', 50), ('Widget B', 30), ('Widget A', 20),\n",
              "       ('Widget C', 15), ('Widget B', 40), ('Widget A', 25),\n",
              "       ('Widget C', 35), ('Widget B', 10), ('Widget A', 15),\n",
              "       ('Widget C', 45), ('Widget C', 40)],\n",
              "      dtype={'names': ['Product', 'Quantity'], 'formats': ['<U8', '<i8'], 'offsets': [8, 40], 'itemsize': 96})"
            ]
          },
          "metadata": {},
          "execution_count": 12
        }
      ]
    },
    {
      "cell_type": "code",
      "source": [
        "#display total quantity of orders\n",
        "np.sum(orders['Quantity'])"
      ],
      "metadata": {
        "colab": {
          "base_uri": "https://localhost:8080/"
        },
        "id": "_M2dONDAOVLr",
        "outputId": "f051c245-a7c0-435f-b4b4-2577d7e2b9f5"
      },
      "execution_count": null,
      "outputs": [
        {
          "output_type": "execute_result",
          "data": {
            "text/plain": [
              "325"
            ]
          },
          "metadata": {},
          "execution_count": 10
        }
      ]
    },
    {
      "cell_type": "code",
      "source": [
        "#display avg num of qty\n",
        "np.mean(orders['Quantity'])"
      ],
      "metadata": {
        "colab": {
          "base_uri": "https://localhost:8080/"
        },
        "id": "AHo3nF_wOfKD",
        "outputId": "224f6618-ad32-4d31-fb20-4dc26e2a4d14"
      },
      "execution_count": null,
      "outputs": [
        {
          "output_type": "execute_result",
          "data": {
            "text/plain": [
              "29.545454545454547"
            ]
          },
          "metadata": {},
          "execution_count": 9
        }
      ]
    },
    {
      "cell_type": "code",
      "source": [
        "#display the total num of orders\n",
        "np.count_nonzero(orders['OrderID'])\n"
      ],
      "metadata": {
        "colab": {
          "base_uri": "https://localhost:8080/"
        },
        "id": "vCJFWeVvOvo7",
        "outputId": "372d5a8e-284d-4ecc-bfd1-1eadd3689d6d"
      },
      "execution_count": null,
      "outputs": [
        {
          "output_type": "execute_result",
          "data": {
            "text/plain": [
              "11"
            ]
          },
          "metadata": {},
          "execution_count": 8
        }
      ]
    },
    {
      "cell_type": "code",
      "source": [
        "#diff types of products\n",
        "np.unique(orders['Product'])"
      ],
      "metadata": {
        "colab": {
          "base_uri": "https://localhost:8080/"
        },
        "id": "oFR6Uai-PcaM",
        "outputId": "3a1a06bd-d797-44bb-9a3a-6c0696409600"
      },
      "execution_count": null,
      "outputs": [
        {
          "output_type": "execute_result",
          "data": {
            "text/plain": [
              "array(['Widget A', 'Widget B', 'Widget C'], dtype='<U8')"
            ]
          },
          "metadata": {},
          "execution_count": 14
        }
      ]
    },
    {
      "cell_type": "code",
      "source": [
        "#orders having qty >30\n",
        "orders[orders[\"Quantity\"]>30] [['Product','Quantity']]"
      ],
      "metadata": {
        "colab": {
          "base_uri": "https://localhost:8080/"
        },
        "id": "NtB9gcTUPIFd",
        "outputId": "ee0578fd-a807-4ba7-ef85-2f354ddeac6f"
      },
      "execution_count": null,
      "outputs": [
        {
          "output_type": "execute_result",
          "data": {
            "text/plain": [
              "array([('Widget A', 50), ('Widget B', 40), ('Widget C', 35),\n",
              "       ('Widget C', 45), ('Widget C', 40)],\n",
              "      dtype={'names': ['Product', 'Quantity'], 'formats': ['<U8', '<i8'], 'offsets': [8, 40], 'itemsize': 96})"
            ]
          },
          "metadata": {},
          "execution_count": 13
        }
      ]
    },
    {
      "cell_type": "code",
      "source": [
        "#details of Product Widget A\n",
        "orders[orders['Product']==\"Widget A\"][['Product','Quantity','Price']]"
      ],
      "metadata": {
        "colab": {
          "base_uri": "https://localhost:8080/"
        },
        "id": "X2FQ3jkmQWt6",
        "outputId": "73c01e73-2004-4170-e422-9ca2369edf2f"
      },
      "execution_count": null,
      "outputs": [
        {
          "output_type": "execute_result",
          "data": {
            "text/plain": [
              "array([('Widget A', 50, 10.5), ('Widget A', 20, 10.5),\n",
              "       ('Widget A', 25, 10.5), ('Widget A', 15, 10.5)],\n",
              "      dtype={'names': ['Product', 'Quantity', 'Price'], 'formats': ['<U8', '<i8', '<f8'], 'offsets': [8, 40, 48], 'itemsize': 96})"
            ]
          },
          "metadata": {},
          "execution_count": 19
        }
      ]
    },
    {
      "cell_type": "code",
      "source": [
        "#total qty of each prod sold\n",
        "prod = np.unique(orders['Product'])\n",
        "total={}\n",
        "for products in prod:\n",
        "    total[products]=np.sum(orders[orders['Product']==products]['Quantity'])\n",
        "print(total)\n",
        "max(total,key=total.get)\n",
        "#Sirs method: same but instezad of dict- made use of 2 vars and printed in the loop itself"
      ],
      "metadata": {
        "colab": {
          "base_uri": "https://localhost:8080/",
          "height": 53
        },
        "id": "Ir1B26qFRsaD",
        "outputId": "f9ca0ce3-b740-4387-d588-1805c33044e2"
      },
      "execution_count": null,
      "outputs": [
        {
          "output_type": "stream",
          "name": "stdout",
          "text": [
            "{'Widget A': 110, 'Widget B': 80, 'Widget C': 135}\n"
          ]
        },
        {
          "output_type": "execute_result",
          "data": {
            "text/plain": [
              "'Widget C'"
            ],
            "application/vnd.google.colaboratory.intrinsic+json": {
              "type": "string"
            }
          },
          "metadata": {},
          "execution_count": 35
        }
      ]
    }
  ]
}