{
  "nbformat": 4,
  "nbformat_minor": 0,
  "metadata": {
    "colab": {
      "provenance": [],
      "authorship_tag": "ABX9TyP7Dz2tcyDbssYZ8QmEmGc5",
      "include_colab_link": true
    },
    "kernelspec": {
      "name": "python3",
      "display_name": "Python 3"
    },
    "language_info": {
      "name": "python"
    }
  },
  "cells": [
    {
      "cell_type": "markdown",
      "metadata": {
        "id": "view-in-github",
        "colab_type": "text"
      },
      "source": [
        "<a href=\"https://colab.research.google.com/github/Khushi-216/Python/blob/main/Practical_5.ipynb\" target=\"_parent\"><img src=\"https://colab.research.google.com/assets/colab-badge.svg\" alt=\"Open In Colab\"/></a>"
      ]
    },
    {
      "cell_type": "code",
      "execution_count": null,
      "metadata": {
        "id": "SHf2s2Gt4Lvl"
      },
      "outputs": [],
      "source": [
        "import pandas as pd\n",
        "from matplotlib import pyplot as plt\n"
      ]
    },
    {
      "cell_type": "code",
      "source": [
        "IPL_Ball=pd.read_csv(\"IPL_Ball.csv\")\n",
        "IPL_Matches=pd.read_csv(\"IPL_Matches.csv\")"
      ],
      "metadata": {
        "id": "yYfKMCpS42LZ"
      },
      "execution_count": null,
      "outputs": []
    },
    {
      "cell_type": "code",
      "source": [
        "data=pd.merge(IPL_Ball,IPL_Matches,on=\"id\")"
      ],
      "metadata": {
        "id": "He54C7cy5D1x"
      },
      "execution_count": null,
      "outputs": []
    },
    {
      "cell_type": "code",
      "source": [
        "data.info()"
      ],
      "metadata": {
        "colab": {
          "base_uri": "https://localhost:8080/"
        },
        "collapsed": true,
        "id": "TwcaV2sA4-Oh",
        "outputId": "324991ee-f098-4164-83c5-84d72c78bbdb"
      },
      "execution_count": null,
      "outputs": [
        {
          "output_type": "stream",
          "name": "stdout",
          "text": [
            "<class 'pandas.core.frame.DataFrame'>\n",
            "RangeIndex: 260920 entries, 0 to 260919\n",
            "Data columns (total 35 columns):\n",
            " #   Column            Non-Null Count   Dtype  \n",
            "---  ------            --------------   -----  \n",
            " 0   id                260920 non-null  int64  \n",
            " 1   inning            260920 non-null  int64  \n",
            " 2   batting_team      260920 non-null  object \n",
            " 3   bowling_team      260920 non-null  object \n",
            " 4   over              260920 non-null  int64  \n",
            " 5   ball              260920 non-null  int64  \n",
            " 6   batter            260920 non-null  object \n",
            " 7   bowler            260920 non-null  object \n",
            " 8   non_striker       260920 non-null  object \n",
            " 9   batsman_runs      260920 non-null  int64  \n",
            " 10  extra_runs        260920 non-null  int64  \n",
            " 11  total_runs        260920 non-null  int64  \n",
            " 12  extras_type       14125 non-null   object \n",
            " 13  is_wicket         260920 non-null  int64  \n",
            " 14  player_dismissed  12950 non-null   object \n",
            " 15  dismissal_kind    12950 non-null   object \n",
            " 16  fielder           9354 non-null    object \n",
            " 17  city              248523 non-null  object \n",
            " 18  date              260920 non-null  object \n",
            " 19  match_type        260920 non-null  object \n",
            " 20  player_of_match   260430 non-null  object \n",
            " 21  venue             260920 non-null  object \n",
            " 22  team1             260920 non-null  object \n",
            " 23  team2             260920 non-null  object \n",
            " 24  toss_winner       260920 non-null  object \n",
            " 25  toss_decision     260920 non-null  object \n",
            " 26  winner            260430 non-null  object \n",
            " 27  result            260920 non-null  object \n",
            " 28  result_margin     256796 non-null  float64\n",
            " 29  target_runs       260611 non-null  float64\n",
            " 30  target_overs      260611 non-null  float64\n",
            " 31  super_over        260920 non-null  object \n",
            " 32  method            3646 non-null    object \n",
            " 33  umpire1           260920 non-null  object \n",
            " 34  umpire2           260920 non-null  object \n",
            "dtypes: float64(3), int64(8), object(24)\n",
            "memory usage: 69.7+ MB\n"
          ]
        }
      ]
    },
    {
      "cell_type": "code",
      "source": [
        "top=data.groupby('batter')['batsman_runs'].sum().sort_values(ascending=False).head(5)\n",
        "top"
      ],
      "metadata": {
        "colab": {
          "base_uri": "https://localhost:8080/",
          "height": 272
        },
        "id": "pyhw9rlF5aT6",
        "outputId": "c862cd7f-2682-4d72-f866-a97ad36fae46"
      },
      "execution_count": null,
      "outputs": [
        {
          "output_type": "execute_result",
          "data": {
            "text/plain": [
              "batter\n",
              "V Kohli      8014\n",
              "S Dhawan     6769\n",
              "RG Sharma    6630\n",
              "DA Warner    6567\n",
              "SK Raina     5536\n",
              "Name: batsman_runs, dtype: int64"
            ],
            "text/html": [
              "<div>\n",
              "<style scoped>\n",
              "    .dataframe tbody tr th:only-of-type {\n",
              "        vertical-align: middle;\n",
              "    }\n",
              "\n",
              "    .dataframe tbody tr th {\n",
              "        vertical-align: top;\n",
              "    }\n",
              "\n",
              "    .dataframe thead th {\n",
              "        text-align: right;\n",
              "    }\n",
              "</style>\n",
              "<table border=\"1\" class=\"dataframe\">\n",
              "  <thead>\n",
              "    <tr style=\"text-align: right;\">\n",
              "      <th></th>\n",
              "      <th>batsman_runs</th>\n",
              "    </tr>\n",
              "    <tr>\n",
              "      <th>batter</th>\n",
              "      <th></th>\n",
              "    </tr>\n",
              "  </thead>\n",
              "  <tbody>\n",
              "    <tr>\n",
              "      <th>V Kohli</th>\n",
              "      <td>8014</td>\n",
              "    </tr>\n",
              "    <tr>\n",
              "      <th>S Dhawan</th>\n",
              "      <td>6769</td>\n",
              "    </tr>\n",
              "    <tr>\n",
              "      <th>RG Sharma</th>\n",
              "      <td>6630</td>\n",
              "    </tr>\n",
              "    <tr>\n",
              "      <th>DA Warner</th>\n",
              "      <td>6567</td>\n",
              "    </tr>\n",
              "    <tr>\n",
              "      <th>SK Raina</th>\n",
              "      <td>5536</td>\n",
              "    </tr>\n",
              "  </tbody>\n",
              "</table>\n",
              "</div><br><label><b>dtype:</b> int64</label>"
            ]
          },
          "metadata": {},
          "execution_count": 12
        }
      ]
    },
    {
      "cell_type": "code",
      "source": [
        "x=list(top.index) #TOP 5 BATSMAN IN IPL\n",
        "print(x)\n",
        "y=list(top.values)\n",
        "print(y)\n",
        "plt.bar(x,y)\n",
        "plt.xlabel(\"Batsman\")\n",
        "plt.ylabel(\"Runs\")\n",
        "plt.title(\"Top 5 Batsman\")\n",
        "plt.show()"
      ],
      "metadata": {
        "colab": {
          "base_uri": "https://localhost:8080/",
          "height": 507
        },
        "id": "CPFqFVVQ6Imy",
        "outputId": "3ea02d64-3ec8-4450-959a-55d140eca3c3"
      },
      "execution_count": null,
      "outputs": [
        {
          "output_type": "stream",
          "name": "stdout",
          "text": [
            "['V Kohli', 'S Dhawan', 'RG Sharma', 'DA Warner', 'SK Raina']\n",
            "[8014, 6769, 6630, 6567, 5536]\n"
          ]
        },
        {
          "output_type": "display_data",
          "data": {
            "text/plain": [
              "<Figure size 640x480 with 1 Axes>"
            ],
            "image/png": "[encoded data removed]"
          },
          "metadata": {}
        }
      ]
    },
    {
      "cell_type": "code",
      "source": [
        "wickets=data[~data['dismissal_kind'].isin(['runout','retired hurt','obstructing the field','retired out'])] #TOP 5 BOWLERS IN IPL\n",
        "wickets['dismissal_kind'].unique()"
      ],
      "metadata": {
        "colab": {
          "base_uri": "https://localhost:8080/"
        },
        "id": "1pZAa3s27GyS",
        "outputId": "8e4c4757-8c6e-4e64-b2b3-80b497a555a5"
      },
      "execution_count": null,
      "outputs": [
        {
          "output_type": "execute_result",
          "data": {
            "text/plain": [
              "array([nan, 'caught', 'bowled', 'run out', 'lbw', 'stumped',\n",
              "       'caught and bowled', 'hit wicket'], dtype=object)"
            ]
          },
          "metadata": {},
          "execution_count": 20
        }
      ]
    },
    {
      "cell_type": "code",
      "source": [
        "wickets.groupby('bowler')['is_wicket'].sum().nlargest(5)"
      ],
      "metadata": {
        "colab": {
          "base_uri": "https://localhost:8080/",
          "height": 272
        },
        "id": "D_hX2tBR-fqz",
        "outputId": "6c138e7d-160f-413b-bcfb-282743957a95"
      },
      "execution_count": null,
      "outputs": [
        {
          "output_type": "execute_result",
          "data": {
            "text/plain": [
              "bowler\n",
              "YS Chahal    213\n",
              "DJ Bravo     207\n",
              "PP Chawla    201\n",
              "SP Narine    200\n",
              "R Ashwin     197\n",
              "Name: is_wicket, dtype: int64"
            ],
            "text/html": [
              "<div>\n",
              "<style scoped>\n",
              "    .dataframe tbody tr th:only-of-type {\n",
              "        vertical-align: middle;\n",
              "    }\n",
              "\n",
              "    .dataframe tbody tr th {\n",
              "        vertical-align: top;\n",
              "    }\n",
              "\n",
              "    .dataframe thead th {\n",
              "        text-align: right;\n",
              "    }\n",
              "</style>\n",
              "<table border=\"1\" class=\"dataframe\">\n",
              "  <thead>\n",
              "    <tr style=\"text-align: right;\">\n",
              "      <th></th>\n",
              "      <th>is_wicket</th>\n",
              "    </tr>\n",
              "    <tr>\n",
              "      <th>bowler</th>\n",
              "      <th></th>\n",
              "    </tr>\n",
              "  </thead>\n",
              "  <tbody>\n",
              "    <tr>\n",
              "      <th>YS Chahal</th>\n",
              "      <td>213</td>\n",
              "    </tr>\n",
              "    <tr>\n",
              "      <th>DJ Bravo</th>\n",
              "      <td>207</td>\n",
              "    </tr>\n",
              "    <tr>\n",
              "      <th>PP Chawla</th>\n",
              "      <td>201</td>\n",
              "    </tr>\n",
              "    <tr>\n",
              "      <th>SP Narine</th>\n",
              "      <td>200</td>\n",
              "    </tr>\n",
              "    <tr>\n",
              "      <th>R Ashwin</th>\n",
              "      <td>197</td>\n",
              "    </tr>\n",
              "  </tbody>\n",
              "</table>\n",
              "</div><br><label><b>dtype:</b> int64</label>"
            ]
          },
          "metadata": {},
          "execution_count": 21
        }
      ]
    },
    {
      "cell_type": "code",
      "source": [
        "data['date']=pd.to_datetime(data['date'],format='mixed') #ORANGE CAP WINNER OF ALL IPL SEASONS\n",
        "data['season']=pd.DatetimeIndex(data['date']).year\n",
        "data['season']"
      ],
      "metadata": {
        "colab": {
          "base_uri": "https://localhost:8080/",
          "height": 458
        },
        "id": "-pePLe5HAkRS",
        "outputId": "69b52de5-3dd1-4c6f-c3ed-74f1dda73d00"
      },
      "execution_count": null,
      "outputs": [
        {
          "output_type": "execute_result",
          "data": {
            "text/plain": [
              "0         2008\n",
              "1         2008\n",
              "2         2008\n",
              "3         2008\n",
              "4         2008\n",
              "          ... \n",
              "260915    2024\n",
              "260916    2024\n",
              "260917    2024\n",
              "260918    2024\n",
              "260919    2024\n",
              "Name: season, Length: 260920, dtype: int32"
            ],
            "text/html": [
              "<div>\n",
              "<style scoped>\n",
              "    .dataframe tbody tr th:only-of-type {\n",
              "        vertical-align: middle;\n",
              "    }\n",
              "\n",
              "    .dataframe tbody tr th {\n",
              "        vertical-align: top;\n",
              "    }\n",
              "\n",
              "    .dataframe thead th {\n",
              "        text-align: right;\n",
              "    }\n",
              "</style>\n",
              "<table border=\"1\" class=\"dataframe\">\n",
              "  <thead>\n",
              "    <tr style=\"text-align: right;\">\n",
              "      <th></th>\n",
              "      <th>season</th>\n",
              "    </tr>\n",
              "  </thead>\n",
              "  <tbody>\n",
              "    <tr>\n",
              "      <th>0</th>\n",
              "      <td>2008</td>\n",
              "    </tr>\n",
              "    <tr>\n",
              "      <th>1</th>\n",
              "      <td>2008</td>\n",
              "    </tr>\n",
              "    <tr>\n",
              "      <th>2</th>\n",
              "      <td>2008</td>\n",
              "    </tr>\n",
              "    <tr>\n",
              "      <th>3</th>\n",
              "      <td>2008</td>\n",
              "    </tr>\n",
              "    <tr>\n",
              "      <th>4</th>\n",
              "      <td>2008</td>\n",
              "    </tr>\n",
              "    <tr>\n",
              "      <th>...</th>\n",
              "      <td>...</td>\n",
              "    </tr>\n",
              "    <tr>\n",
              "      <th>260915</th>\n",
              "      <td>2024</td>\n",
              "    </tr>\n",
              "    <tr>\n",
              "      <th>260916</th>\n",
              "      <td>2024</td>\n",
              "    </tr>\n",
              "    <tr>\n",
              "      <th>260917</th>\n",
              "      <td>2024</td>\n",
              "    </tr>\n",
              "    <tr>\n",
              "      <th>260918</th>\n",
              "      <td>2024</td>\n",
              "    </tr>\n",
              "    <tr>\n",
              "      <th>260919</th>\n",
              "      <td>2024</td>\n",
              "    </tr>\n",
              "  </tbody>\n",
              "</table>\n",
              "<p>260920 rows × 1 columns</p>\n",
              "</div><br><label><b>dtype:</b> int32</label>"
            ]
          },
          "metadata": {},
          "execution_count": 23
        }
      ]
    },
    {
      "cell_type": "code",
      "source": [
        "s=data['season'].unique()\n",
        "s"
      ],
      "metadata": {
        "colab": {
          "base_uri": "https://localhost:8080/"
        },
        "id": "gpJPzjbECIwL",
        "outputId": "08af4c85-6ece-4405-c62c-849f3ef1a2d4"
      },
      "execution_count": null,
      "outputs": [
        {
          "output_type": "execute_result",
          "data": {
            "text/plain": [
              "array([2008, 2009, 2010, 2011, 2012, 2013, 2014, 2015, 2016, 2017, 2018,\n",
              "       2019, 2020, 2021, 2022, 2023, 2024], dtype=int32)"
            ]
          },
          "metadata": {},
          "execution_count": 24
        }
      ]
    },
    {
      "cell_type": "code",
      "source": [
        "oc={}\n",
        "for i in s:\n",
        "  k=data[data['season']==i].groupby('batter')['batsman_runs'].sum().nlargest(1)\n",
        "  oc[i]=[k.index[0],k.values[0]]\n",
        "oc"
      ],
      "metadata": {
        "colab": {
          "base_uri": "https://localhost:8080/"
        },
        "id": "_aaOpwobCWaU",
        "outputId": "ddb970ce-f9da-4355-c643-57a58d13a037"
      },
      "execution_count": null,
      "outputs": [
        {
          "output_type": "execute_result",
          "data": {
            "text/plain": [
              "{2008: ['SE Marsh', 616],\n",
              " 2009: ['ML Hayden', 572],\n",
              " 2010: ['SR Tendulkar', 618],\n",
              " 2011: ['CH Gayle', 608],\n",
              " 2012: ['CH Gayle', 733],\n",
              " 2013: ['MEK Hussey', 733],\n",
              " 2014: ['RV Uthappa', 660],\n",
              " 2015: ['DA Warner', 562],\n",
              " 2016: ['V Kohli', 973],\n",
              " 2017: ['DA Warner', 641],\n",
              " 2018: ['KS Williamson', 735],\n",
              " 2019: ['DA Warner', 692],\n",
              " 2020: ['KL Rahul', 676],\n",
              " 2021: ['RD Gaikwad', 635],\n",
              " 2022: ['JC Buttler', 863],\n",
              " 2023: ['Shubman Gill', 890],\n",
              " 2024: ['V Kohli', 741]}"
            ]
          },
          "metadata": {},
          "execution_count": 36
        }
      ]
    },
    {
      "cell_type": "code",
      "source": [
        "vk=data[data['batter']=='V Kohli'].groupby('season')['batsman_runs'].sum() #VIRAT KOHLI SCORES IN  EACH SEASON\n",
        "x=list(vk.index)\n",
        "y=list(vk.values)\n",
        "plt.figure(figsize=(8,6))\n",
        "plt.plot(x,y)\n",
        "plt.xlabel(\"Season\")\n",
        "plt.ylabel(\"Runs\")\n",
        "plt.title(\"Virat Kohli Score\")\n",
        "plt.show()"
      ],
      "metadata": {
        "colab": {
          "base_uri": "https://localhost:8080/",
          "height": 564
        },
        "id": "z7Qm_pPBENgc",
        "outputId": "fa6e11b2-55c1-4360-c1f8-b5bc384d2fc6"
      },
      "execution_count": null,
      "outputs": [
        {
          "output_type": "display_data",
          "data": {
            "text/plain": [
              "<Figure size 800x600 with 1 Axes>"
            ],
            "image/png": "[encoded data removed]"
          },
          "metadata": {}
        }
      ]
    },
    {
      "cell_type": "code",
      "source": [
        "#HOW MANY DOT BALLS- ONES - TWOS - THREES - FOURS & SIXES`\n",
        "# PLayer and their number of centuries scored\n"
      ],
      "metadata": {
        "id": "hXlQTWrWIIME"
      },
      "execution_count": null,
      "outputs": []
    }
  ]
}